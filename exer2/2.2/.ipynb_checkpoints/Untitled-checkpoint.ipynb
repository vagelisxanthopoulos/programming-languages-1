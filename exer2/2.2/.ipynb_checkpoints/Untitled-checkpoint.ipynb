{
 "cells": [
  {
   "cell_type": "code",
   "execution_count": 107,
   "metadata": {},
   "outputs": [],
   "source": [
    "with open('input') as f:\n",
    "    gr, st = [int(x) for x in next(f).split()] # read first line\n",
    "move = []\n",
    "linecnt = 0\n",
    "with open('input') as f:\n",
    "    for line in f:\n",
    "        linecnt += 1\n",
    "        if linecnt > 1 :\n",
    "            for ch in line: \n",
    "                if ch != ' ' and ch != '\\n' : move.append(ch)\n",
    "#print(move)"
   ]
  },
  {
   "cell_type": "code",
   "execution_count": 108,
   "metadata": {},
   "outputs": [],
   "source": [
    "nextone = []\n",
    "cnt = 0\n",
    "for x in move:\n",
    "    if x == 'L' : nextone.append(cnt - 1)\n",
    "    elif x == 'R' : nextone.append(cnt + 1)\n",
    "    elif x == 'U' : nextone.append(cnt - st)\n",
    "    else : nextone.append(cnt + st)\n",
    "    if nextone[cnt] < 0 : nextone[cnt] = -1\n",
    "    elif nextone[cnt] >= gr * st : nextone[cnt] = -1\n",
    "    elif (x == 'R' or x == 'L') and ((nextone[cnt] // st) != (cnt // st)) : nextone[cnt] = -1\n",
    "    cnt = cnt + 1\n",
    "#print(nextone)\n",
    "    "
   ]
  },
  {
   "cell_type": "code",
   "execution_count": 109,
   "metadata": {},
   "outputs": [
    {
     "name": "stdout",
     "output_type": "stream",
     "text": [
      "15303\n"
     ]
    }
   ],
   "source": [
    "res = 0\n",
    "fin = [0] * (st * gr)\n",
    "vis = [0] * (st * gr)\n",
    "notfin = [0] * (st * gr)\n",
    "\n",
    "for x in range(st * gr) :\n",
    "    if nextone[x] == -1 :\n",
    "        vis[x] =  1\n",
    "        fin[x] = 1\n",
    "        \n",
    "for x in range(st * gr) :\n",
    "    if vis[x] == 1 : continue\n",
    "    path = []\n",
    "    temp = x\n",
    "    while True:\n",
    "        vis[temp] = 1\n",
    "        path.append(temp)\n",
    "        if fin[nextone[temp]] == 1 :\n",
    "            for x in path :\n",
    "                fin[x] = 1\n",
    "            break\n",
    "        elif notfin[nextone[temp]] == 1 or vis[nextone[temp]] == 1 :\n",
    "            for x in path :\n",
    "                notfin[x] = 1\n",
    "                res += 1\n",
    "            break\n",
    "        else : temp = nextone[temp]\n",
    "            \n",
    "print(res)\n",
    " "
   ]
  },
  {
   "cell_type": "code",
   "execution_count": null,
   "metadata": {},
   "outputs": [],
   "source": []
  },
  {
   "cell_type": "code",
   "execution_count": null,
   "metadata": {},
   "outputs": [],
   "source": []
  }
 ],
 "metadata": {
  "kernelspec": {
   "display_name": "Python 3",
   "language": "python",
   "name": "python3"
  },
  "language_info": {
   "codemirror_mode": {
    "name": "ipython",
    "version": 3
   },
   "file_extension": ".py",
   "mimetype": "text/x-python",
   "name": "python",
   "nbconvert_exporter": "python",
   "pygments_lexer": "ipython3",
   "version": "3.8.5"
  }
 },
 "nbformat": 4,
 "nbformat_minor": 4
}
